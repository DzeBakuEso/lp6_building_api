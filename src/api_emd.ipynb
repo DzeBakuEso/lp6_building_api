{
 "cells": [
  {
   "cell_type": "markdown",
   "metadata": {},
   "source": [
    "# Businees Understanding \n",
    "\n",
    "# About the project and the data set \n",
    "\n",
    "About the data set\n",
    " \n",
    "The dataset comprises patient information collected in an intensive care unit (ICU), with the primary goal of predicting the development of sepsis. It includes various health-related attributes such as plasma glucose, blood work results, blood pressure, body mass index, and patient age. The binary target variable, 'Sepssis,' indicates whether a patient is likely to develop sepsis ('Positive') or not ('Negative'). Features such as insurance status are also present, allowing for an exploration of potential correlations between patient characteristics and the occurrence of sepsis in the ICU.\n",
    "\n",
    "About the Project\n",
    "\n",
    "As the final project of the program, this project focuses on the process of creating an API that can be seamlessly integrated with a machine-learning model. This approach is particularly valuable when safeguarding the confidentiality of a model's architecture or when making it accessible to users with existing API integration. Through the creation and deployment of an API, the model gains the capability to receive requests over the internet."
   ]
  },
  {
   "cell_type": "markdown",
   "metadata": {},
   "source": [
    "## Analytical Questions \n",
    "\n",
    "1. Demographic Analysis:\n",
    "\n",
    "a. What is the distribution of patients based on age?\n",
    "\n",
    "b. How is the distribution of patients across different insurance statuses?\n",
    "\n",
    "c. Is there any correlation between age and the likelihood of developing sepsis?\n",
    "\n",
    "2. Feature Relationships:\n",
    "\n",
    "a. Are there any noticeable patterns or correlations between different numerical features (e.g., PRG, PL, PR) and the target variable (Sepssis)?\n",
    "\n",
    "b. How does the distribution of Plasma Glucose (PRG) differ between patients who develop sepsis and those who don't?\n",
    "\n",
    "3. Class Distribution:\n",
    "\n",
    "a. What is the distribution of classes in the target variable (Positive/Negative)?\n"
   ]
  },
  {
   "cell_type": "markdown",
   "metadata": {},
   "source": [
    "## Hypothesis:\n",
    "\n",
    "This study seeks to investigate the impact of key health-related features, including plasma glucose levels, blood pressure, and body mass index (BMI), on the probability of a patient developing sepsis within the intensive care unit (ICU). We hypothesize that variations in these specific health indicators will exhibit statistically significant correlations with the likelihood of sepsis occurrence. By analyzing these relationships, we aim to identify crucial factors contributing to the development of sepsis, thereby informing more targeted and effective medical interventions in the ICU setting"
   ]
  },
  {
   "cell_type": "markdown",
   "metadata": {},
   "source": [
    "## Installing Packages "
   ]
  },
  {
   "cell_type": "code",
   "execution_count": null,
   "metadata": {},
   "outputs": [],
   "source": [
    "%pip install pandas matplotlib seaborn\n",
    "%pip install scipy\n",
    "%pip install scikit-learn\n",
    "%pip install imbalanced-learn"
   ]
  },
  {
   "cell_type": "markdown",
   "metadata": {},
   "source": [
    "## Importing Packages"
   ]
  },
  {
   "cell_type": "code",
   "execution_count": 1,
   "metadata": {},
   "outputs": [],
   "source": [
    "# Import necessary libraries\n",
    "import pandas as pd\n",
    "import matplotlib.pyplot as plt\n",
    "import seaborn as sns\n",
    "\n",
    "#for correlation\n",
    "from scipy.stats import pointbiserialr\n",
    "\n",
    "# Data preprocessing\n",
    "from sklearn.compose import ColumnTransformer\n",
    "from sklearn.pipeline import Pipeline\n",
    "from sklearn.preprocessing import StandardScaler, OneHotEncoder\n",
    "\n",
    "# class balancing and data splitting \n",
    "from sklearn.model_selection import train_test_split\n",
    "from imblearn.over_sampling import RandomOverSampler\n",
    "\n",
    "# the machine model \n",
    "from sklearn.ensemble import RandomForestClassifier\n",
    "from sklearn.svm import SVC\n",
    "from sklearn.ensemble import GradientBoostingClassifier\n",
    "\n",
    "# For evaluate the performance of the model\n",
    "from sklearn.metrics import classification_report, accuracy_score, confusion_matrix\n"
   ]
  },
  {
   "cell_type": "markdown",
   "metadata": {},
   "source": [
    "## Loading data "
   ]
  },
  {
   "cell_type": "code",
   "execution_count": 4,
   "metadata": {},
   "outputs": [],
   "source": [
    "# Loading the train data set and the test data set\n",
    "train_path = \"../data/Paitients_Files_Train.csv\"\n",
    "test_path = \"../data/Paitients_Files_Test.csv\"\n",
    "\n",
    "df_train =  pd.read_csv(train_path)\n",
    "\n",
    "df_test = pd.read_csv(test_path)"
   ]
  },
  {
   "cell_type": "markdown",
   "metadata": {},
   "source": [
    "# let's look at some information on our data sets"
   ]
  },
  {
   "cell_type": "markdown",
   "metadata": {},
   "source": [
    "## train set"
   ]
  },
  {
   "cell_type": "code",
   "execution_count": 5,
   "metadata": {},
   "outputs": [
    {
     "name": "stdout",
     "output_type": "stream",
     "text": [
      "<class 'pandas.core.frame.DataFrame'>\n",
      "RangeIndex: 599 entries, 0 to 598\n",
      "Data columns (total 11 columns):\n",
      " #   Column     Non-Null Count  Dtype  \n",
      "---  ------     --------------  -----  \n",
      " 0   ID         599 non-null    object \n",
      " 1   PRG        599 non-null    int64  \n",
      " 2   PL         599 non-null    int64  \n",
      " 3   PR         599 non-null    int64  \n",
      " 4   SK         599 non-null    int64  \n",
      " 5   TS         599 non-null    int64  \n",
      " 6   M11        599 non-null    float64\n",
      " 7   BD2        599 non-null    float64\n",
      " 8   Age        599 non-null    int64  \n",
      " 9   Insurance  599 non-null    int64  \n",
      " 10  Sepssis    599 non-null    object \n",
      "dtypes: float64(2), int64(7), object(2)\n",
      "memory usage: 51.6+ KB\n"
     ]
    }
   ],
   "source": [
    "df_train.info() # getting some info on the data train data set "
   ]
  },
  {
   "cell_type": "code",
   "execution_count": 6,
   "metadata": {},
   "outputs": [
    {
     "data": {
      "text/plain": [
       "(599, 11)"
      ]
     },
     "execution_count": 6,
     "metadata": {},
     "output_type": "execute_result"
    }
   ],
   "source": [
    "df_train.shape"
   ]
  },
  {
   "cell_type": "code",
   "execution_count": 7,
   "metadata": {},
   "outputs": [
    {
     "data": {
      "text/html": [
       "<div>\n",
       "<style scoped>\n",
       "    .dataframe tbody tr th:only-of-type {\n",
       "        vertical-align: middle;\n",
       "    }\n",
       "\n",
       "    .dataframe tbody tr th {\n",
       "        vertical-align: top;\n",
       "    }\n",
       "\n",
       "    .dataframe thead th {\n",
       "        text-align: right;\n",
       "    }\n",
       "</style>\n",
       "<table border=\"1\" class=\"dataframe\">\n",
       "  <thead>\n",
       "    <tr style=\"text-align: right;\">\n",
       "      <th></th>\n",
       "      <th>ID</th>\n",
       "      <th>PRG</th>\n",
       "      <th>PL</th>\n",
       "      <th>PR</th>\n",
       "      <th>SK</th>\n",
       "      <th>TS</th>\n",
       "      <th>M11</th>\n",
       "      <th>BD2</th>\n",
       "      <th>Age</th>\n",
       "      <th>Insurance</th>\n",
       "      <th>Sepssis</th>\n",
       "    </tr>\n",
       "  </thead>\n",
       "  <tbody>\n",
       "    <tr>\n",
       "      <th>0</th>\n",
       "      <td>ICU200010</td>\n",
       "      <td>6</td>\n",
       "      <td>148</td>\n",
       "      <td>72</td>\n",
       "      <td>35</td>\n",
       "      <td>0</td>\n",
       "      <td>33.6</td>\n",
       "      <td>0.627</td>\n",
       "      <td>50</td>\n",
       "      <td>0</td>\n",
       "      <td>Positive</td>\n",
       "    </tr>\n",
       "    <tr>\n",
       "      <th>1</th>\n",
       "      <td>ICU200011</td>\n",
       "      <td>1</td>\n",
       "      <td>85</td>\n",
       "      <td>66</td>\n",
       "      <td>29</td>\n",
       "      <td>0</td>\n",
       "      <td>26.6</td>\n",
       "      <td>0.351</td>\n",
       "      <td>31</td>\n",
       "      <td>0</td>\n",
       "      <td>Negative</td>\n",
       "    </tr>\n",
       "    <tr>\n",
       "      <th>2</th>\n",
       "      <td>ICU200012</td>\n",
       "      <td>8</td>\n",
       "      <td>183</td>\n",
       "      <td>64</td>\n",
       "      <td>0</td>\n",
       "      <td>0</td>\n",
       "      <td>23.3</td>\n",
       "      <td>0.672</td>\n",
       "      <td>32</td>\n",
       "      <td>1</td>\n",
       "      <td>Positive</td>\n",
       "    </tr>\n",
       "    <tr>\n",
       "      <th>3</th>\n",
       "      <td>ICU200013</td>\n",
       "      <td>1</td>\n",
       "      <td>89</td>\n",
       "      <td>66</td>\n",
       "      <td>23</td>\n",
       "      <td>94</td>\n",
       "      <td>28.1</td>\n",
       "      <td>0.167</td>\n",
       "      <td>21</td>\n",
       "      <td>1</td>\n",
       "      <td>Negative</td>\n",
       "    </tr>\n",
       "    <tr>\n",
       "      <th>4</th>\n",
       "      <td>ICU200014</td>\n",
       "      <td>0</td>\n",
       "      <td>137</td>\n",
       "      <td>40</td>\n",
       "      <td>35</td>\n",
       "      <td>168</td>\n",
       "      <td>43.1</td>\n",
       "      <td>2.288</td>\n",
       "      <td>33</td>\n",
       "      <td>1</td>\n",
       "      <td>Positive</td>\n",
       "    </tr>\n",
       "    <tr>\n",
       "      <th>...</th>\n",
       "      <td>...</td>\n",
       "      <td>...</td>\n",
       "      <td>...</td>\n",
       "      <td>...</td>\n",
       "      <td>...</td>\n",
       "      <td>...</td>\n",
       "      <td>...</td>\n",
       "      <td>...</td>\n",
       "      <td>...</td>\n",
       "      <td>...</td>\n",
       "      <td>...</td>\n",
       "    </tr>\n",
       "    <tr>\n",
       "      <th>95</th>\n",
       "      <td>ICU200105</td>\n",
       "      <td>6</td>\n",
       "      <td>144</td>\n",
       "      <td>72</td>\n",
       "      <td>27</td>\n",
       "      <td>228</td>\n",
       "      <td>33.9</td>\n",
       "      <td>0.255</td>\n",
       "      <td>40</td>\n",
       "      <td>1</td>\n",
       "      <td>Negative</td>\n",
       "    </tr>\n",
       "    <tr>\n",
       "      <th>96</th>\n",
       "      <td>ICU200106</td>\n",
       "      <td>2</td>\n",
       "      <td>92</td>\n",
       "      <td>62</td>\n",
       "      <td>28</td>\n",
       "      <td>0</td>\n",
       "      <td>31.6</td>\n",
       "      <td>0.130</td>\n",
       "      <td>24</td>\n",
       "      <td>1</td>\n",
       "      <td>Negative</td>\n",
       "    </tr>\n",
       "    <tr>\n",
       "      <th>97</th>\n",
       "      <td>ICU200107</td>\n",
       "      <td>1</td>\n",
       "      <td>71</td>\n",
       "      <td>48</td>\n",
       "      <td>18</td>\n",
       "      <td>76</td>\n",
       "      <td>20.4</td>\n",
       "      <td>0.323</td>\n",
       "      <td>22</td>\n",
       "      <td>1</td>\n",
       "      <td>Negative</td>\n",
       "    </tr>\n",
       "    <tr>\n",
       "      <th>98</th>\n",
       "      <td>ICU200108</td>\n",
       "      <td>6</td>\n",
       "      <td>93</td>\n",
       "      <td>50</td>\n",
       "      <td>30</td>\n",
       "      <td>64</td>\n",
       "      <td>28.7</td>\n",
       "      <td>0.356</td>\n",
       "      <td>23</td>\n",
       "      <td>0</td>\n",
       "      <td>Negative</td>\n",
       "    </tr>\n",
       "    <tr>\n",
       "      <th>99</th>\n",
       "      <td>ICU200109</td>\n",
       "      <td>1</td>\n",
       "      <td>122</td>\n",
       "      <td>90</td>\n",
       "      <td>51</td>\n",
       "      <td>220</td>\n",
       "      <td>49.7</td>\n",
       "      <td>0.325</td>\n",
       "      <td>31</td>\n",
       "      <td>0</td>\n",
       "      <td>Positive</td>\n",
       "    </tr>\n",
       "  </tbody>\n",
       "</table>\n",
       "<p>100 rows × 11 columns</p>\n",
       "</div>"
      ],
      "text/plain": [
       "           ID  PRG   PL  PR  SK   TS   M11    BD2  Age  Insurance   Sepssis\n",
       "0   ICU200010    6  148  72  35    0  33.6  0.627   50          0  Positive\n",
       "1   ICU200011    1   85  66  29    0  26.6  0.351   31          0  Negative\n",
       "2   ICU200012    8  183  64   0    0  23.3  0.672   32          1  Positive\n",
       "3   ICU200013    1   89  66  23   94  28.1  0.167   21          1  Negative\n",
       "4   ICU200014    0  137  40  35  168  43.1  2.288   33          1  Positive\n",
       "..        ...  ...  ...  ..  ..  ...   ...    ...  ...        ...       ...\n",
       "95  ICU200105    6  144  72  27  228  33.9  0.255   40          1  Negative\n",
       "96  ICU200106    2   92  62  28    0  31.6  0.130   24          1  Negative\n",
       "97  ICU200107    1   71  48  18   76  20.4  0.323   22          1  Negative\n",
       "98  ICU200108    6   93  50  30   64  28.7  0.356   23          0  Negative\n",
       "99  ICU200109    1  122  90  51  220  49.7  0.325   31          0  Positive\n",
       "\n",
       "[100 rows x 11 columns]"
      ]
     },
     "execution_count": 7,
     "metadata": {},
     "output_type": "execute_result"
    }
   ],
   "source": [
    "# looking at the head of the train set \n",
    "df_train.head(100)"
   ]
  },
  {
   "cell_type": "code",
   "execution_count": 8,
   "metadata": {},
   "outputs": [],
   "source": [
    "df_train = df_train.drop(['ID'], axis=1) # dropping the ID column"
   ]
  },
  {
   "cell_type": "markdown",
   "metadata": {},
   "source": [
    "# unique values in the Insurance column "
   ]
  },
  {
   "cell_type": "code",
   "execution_count": 9,
   "metadata": {},
   "outputs": [],
   "source": [
    "# here we want to make sure the unique column is already encoded \n",
    "unique_ins_values = df_train['Insurance'].unique()"
   ]
  },
  {
   "cell_type": "code",
   "execution_count": 10,
   "metadata": {},
   "outputs": [
    {
     "data": {
      "text/plain": [
       "array([0, 1], dtype=int64)"
      ]
     },
     "execution_count": 10,
     "metadata": {},
     "output_type": "execute_result"
    }
   ],
   "source": [
    "unique_ins_values # the unique values "
   ]
  },
  {
   "cell_type": "markdown",
   "metadata": {},
   "source": [
    "# unique values in the Age column "
   ]
  },
  {
   "cell_type": "code",
   "execution_count": 11,
   "metadata": {},
   "outputs": [
    {
     "data": {
      "text/plain": [
       "array([50, 31, 32, 21, 33, 30, 26, 29, 53, 54, 34, 57, 59, 51, 27, 41, 43,\n",
       "       22, 38, 60, 28, 45, 35, 46, 56, 37, 48, 40, 25, 24, 58, 42, 44, 39,\n",
       "       36, 23, 61, 69, 62, 55, 65, 47, 52, 66, 49, 63, 67, 72, 81, 64],\n",
       "      dtype=int64)"
      ]
     },
     "execution_count": 11,
     "metadata": {},
     "output_type": "execute_result"
    }
   ],
   "source": [
    "uniq_age_value = df_train['Age'].unique() # getting the unique values in the age column \n",
    "uniq_age_value"
   ]
  },
  {
   "cell_type": "markdown",
   "metadata": {},
   "source": [
    "# unique values in the sepssis coulumn"
   ]
  },
  {
   "cell_type": "code",
   "execution_count": 12,
   "metadata": {},
   "outputs": [
    {
     "data": {
      "text/plain": [
       "array(['Positive', 'Negative'], dtype=object)"
      ]
     },
     "execution_count": 12,
     "metadata": {},
     "output_type": "execute_result"
    }
   ],
   "source": [
    "uniq_values_sep = df_train['Sepssis'].unique()\n",
    "uniq_values_sep  # getting the unique values in the sepssis column "
   ]
  },
  {
   "cell_type": "code",
   "execution_count": 13,
   "metadata": {},
   "outputs": [
    {
     "data": {
      "text/html": [
       "<div>\n",
       "<style scoped>\n",
       "    .dataframe tbody tr th:only-of-type {\n",
       "        vertical-align: middle;\n",
       "    }\n",
       "\n",
       "    .dataframe tbody tr th {\n",
       "        vertical-align: top;\n",
       "    }\n",
       "\n",
       "    .dataframe thead th {\n",
       "        text-align: right;\n",
       "    }\n",
       "</style>\n",
       "<table border=\"1\" class=\"dataframe\">\n",
       "  <thead>\n",
       "    <tr style=\"text-align: right;\">\n",
       "      <th></th>\n",
       "      <th>Sepssis</th>\n",
       "    </tr>\n",
       "  </thead>\n",
       "  <tbody>\n",
       "    <tr>\n",
       "      <th>count</th>\n",
       "      <td>599</td>\n",
       "    </tr>\n",
       "    <tr>\n",
       "      <th>unique</th>\n",
       "      <td>2</td>\n",
       "    </tr>\n",
       "    <tr>\n",
       "      <th>top</th>\n",
       "      <td>Negative</td>\n",
       "    </tr>\n",
       "    <tr>\n",
       "      <th>freq</th>\n",
       "      <td>391</td>\n",
       "    </tr>\n",
       "  </tbody>\n",
       "</table>\n",
       "</div>"
      ],
      "text/plain": [
       "         Sepssis\n",
       "count        599\n",
       "unique         2\n",
       "top     Negative\n",
       "freq         391"
      ]
     },
     "execution_count": 13,
     "metadata": {},
     "output_type": "execute_result"
    }
   ],
   "source": [
    "df_train.describe(include='object') # checking for statistical describtion "
   ]
  },
  {
   "cell_type": "code",
   "execution_count": 14,
   "metadata": {},
   "outputs": [
    {
     "data": {
      "text/plain": [
       "PRG          0\n",
       "PL           0\n",
       "PR           0\n",
       "SK           0\n",
       "TS           0\n",
       "M11          0\n",
       "BD2          0\n",
       "Age          0\n",
       "Insurance    0\n",
       "Sepssis      0\n",
       "dtype: int64"
      ]
     },
     "execution_count": 14,
     "metadata": {},
     "output_type": "execute_result"
    }
   ],
   "source": [
    "df_train.isnull().sum()  # checking for null values "
   ]
  },
  {
   "cell_type": "code",
   "execution_count": 15,
   "metadata": {},
   "outputs": [
    {
     "data": {
      "text/plain": [
       "0"
      ]
     },
     "execution_count": 15,
     "metadata": {},
     "output_type": "execute_result"
    }
   ],
   "source": [
    "df_train.duplicated().sum() # checking duplicated values "
   ]
  },
  {
   "cell_type": "markdown",
   "metadata": {},
   "source": [
    "# Exploratory Data Analysis "
   ]
  },
  {
   "cell_type": "code",
   "execution_count": 16,
   "metadata": {},
   "outputs": [
    {
     "data": {
      "image/png": "[encoded data removed]",
      "text/plain": [
       "<Figure size 1200x800 with 1 Axes>"
      ]
     },
     "metadata": {},
     "output_type": "display_data"
    }
   ],
   "source": [
    "# setting the style for the plots\n",
    "plt.figure(figsize=(12, 8))\n",
    "sns.histplot(df_train['Age'], bins=20, kde=True, color='skyblue')\n",
    "plt.title('Distribution of Patients based On Age')\n",
    "plt.xlabel('Age')\n",
    "plt.ylabel('Frequency')\n",
    "plt.axvline(df_train['Age'].mean(), color='red', linestyle='dashed', linewidth=2, label='Mean Age')  # add mean age line\n",
    "plt.legend()  # displaying legend\n",
    "plt.show()"
   ]
  },
  {
   "cell_type": "markdown",
   "metadata": {},
   "source": [
    "Frequency (Vertical Axis):\n",
    "\n",
    " Each bar in the histogram represents a range of ages, and the height of the bar indicates the frequency or count of patients falling within that age range. The taller the bar, the more patients there are in that particular age range.\n",
    "Age (Horizontal Axis):\n",
    "\n",
    "The horizontal axis represents the range of ages in your dataset. Each bin or interval on the axis corresponds to a specific age range. The bins are defined based on the data's minimum and maximum ages, divided into equal intervals (specified by the bins parameter in the histogram).\n",
    "\n",
    "Outcome:\n",
    "\n",
    "The age distribution analysis reveals prominent peaks in patient representation within the age ranges of 20 to 30, 30 to 45, and 50 to 69. This suggests a concentration of individuals within these age brackets in the dataset. Interestingly, there is a noticeable decline in patient representation beyond the age of 70, with ages 71 to 80 showing significantly lower participation. This information implies potential age-related patterns in the dataset, emphasizing the importance of considering these age groups in subsequent analyses and model development\n"
   ]
  },
  {
   "cell_type": "markdown",
   "metadata": {},
   "source": [
    "## EDA 2:\n",
    "How is the distribution of patients across different insurance statuses?"
   ]
  },
  {
   "cell_type": "code",
   "execution_count": 17,
   "metadata": {},
   "outputs": [
    {
     "name": "stderr",
     "output_type": "stream",
     "text": [
      "C:\\Users\\BAKU\\AppData\\Local\\Temp\\ipykernel_20984\\2511894563.py:4: FutureWarning: \n",
      "\n",
      "Passing `palette` without assigning `hue` is deprecated and will be removed in v0.14.0. Assign the `x` variable to `hue` and set `legend=False` for the same effect.\n",
      "\n",
      "  sns.countplot(x='Insurance', data=df_train, palette='viridis')\n"
     ]
    },
    {
     "data": {
      "image/png": "[encoded data removed]",
      "text/plain": [
       "<Figure size 1200x1000 with 1 Axes>"
      ]
     },
     "metadata": {},
     "output_type": "display_data"
    }
   ],
   "source": [
    "# plotting the distribution of patients across different insurance statuses\n",
    "\n",
    "plt.figure(figsize=(12, 10))\n",
    "sns.countplot(x='Insurance', data=df_train, palette='viridis')\n",
    "plt.title('Distribution of Patients Across Insurance Status')\n",
    "plt.xlabel('Insurance Status (0: No Insurance, 1: Has Insurance)')\n",
    "plt.ylabel('Count')\n",
    "plt.show()"
   ]
  },
  {
   "cell_type": "markdown",
   "metadata": {},
   "source": [
    "Based on the countplot, it is evident that patients with insurance (category 1) outnumber those without insurance (category 0) in the dataset. This distribution implies that a higher proportion of patients in the dataset have insurance coverage. Understanding the distribution across insurance statuses is crucial for assessing the representativeness of the dataset and may also be relevant when exploring potential correlations between insurance status and the likelihood of developing sepsis or other health-related outcomes.\n"
   ]
  },
  {
   "cell_type": "markdown",
   "metadata": {},
   "source": [
    "## 3 Bivariate Analysis \n",
    "Is there any correlation between age and the likelihood of developing sepsis?"
   ]
  },
  {
   "cell_type": "code",
   "execution_count": 18,
   "metadata": {},
   "outputs": [
    {
     "name": "stderr",
     "output_type": "stream",
     "text": [
      "C:\\Users\\BAKU\\AppData\\Local\\Temp\\ipykernel_20984\\2370332485.py:3: FutureWarning: \n",
      "\n",
      "Passing `palette` without assigning `hue` is deprecated and will be removed in v0.14.0. Assign the `x` variable to `hue` and set `legend=False` for the same effect.\n",
      "\n",
      "  sns.boxplot(x='Sepssis', y='Age', data=df_train, palette='Set2')\n"
     ]
    },
    {
     "data": {
      "image/png": "[encoded data removed]",
      "text/plain": [
       "<Figure size 1200x800 with 1 Axes>"
      ]
     },
     "metadata": {},
     "output_type": "display_data"
    }
   ],
   "source": [
    "# Plotting a boxplot to show the relationship between age and sepsis\n",
    "plt.figure(figsize=(12, 8))\n",
    "sns.boxplot(x='Sepssis', y='Age', data=df_train, palette='Set2')\n",
    "plt.title('Relationship Between Age and Sepsis')\n",
    "plt.xlabel('Sepsis (Positive/Negative)')\n",
    "plt.ylabel('Age')\n",
    "plt.show()"
   ]
  },
  {
   "cell_type": "markdown",
   "metadata": {},
   "source": [
    "## Box plot uses and description \n",
    "\n",
    "Box (Interquartile Range - IQR):\n",
    "\n",
    "Top and Bottom of Box: Represent the first quartile (Q1) and third quartile (Q3) of the data, respectively.\n",
    "Length of Box: Indicates the interquartile range (IQR), the range where the central 50% of the data points lie.\n",
    "Line Inside Box: Represents the median (Q2) of the dataset.\n",
    "\n",
    "Whiskers:\n",
    "Lines Extending from Box: Indicate the minimum and maximum values within a certain range.\n",
    "Outliers: Individual data points beyond the whiskers are considered outliers.\n",
    "Outliers:\n",
    "Individual Points Beyond Whiskers: Potential anomalies or extreme values in the dataset.\n",
    "\n",
    "Data Points:\n",
    "\n",
    "Scattered Points: Represent individual data points in the dataset.\n",
    "Interpretation in the Context of Age and Sepsis:\n",
    "In the boxplot depicting the relationship between age and sepsis:\n",
    "The boxes for the 'Positive' and 'Negative' categories show the distribution of ages for patients with and without sepsis.\n",
    "The medians inside each box give an indication of the central tendency of the age distribution for each category.\n",
    "The interquartile range (length of the box) provides insight into the spread of ages where the central 50% of patients fall.\n",
    "Whiskers and outliers help identify any significant deviations or extreme values in the age distribution.\n",
    "By comparing the boxplots for 'Positive' and 'Negative' categories, you can discern patterns and differences in the age distribution between patients with and without sepsis\n"
   ]
  },
  {
   "cell_type": "markdown",
   "metadata": {},
   "source": [
    "## Box Plot visisualization output \n",
    "\n",
    "Positive (Sepsis):\n",
    "\n",
    "The boxplot for patients with sepsis ('Positive') shows a relatively symmetrical distribution of ages. The median is positioned exactly in the middle of the box, indicating that half of the patients with sepsis are younger than the median age, and half are older.\n",
    "There is one outlier, suggesting a single patient with an age significantly different from the majority.\n",
    "\n",
    "Negative (No Sepsis):\n",
    "\n",
    "The boxplot for patients without sepsis ('Negative') has a median that is closer to the bottom of the box. The box is skewed, indicating that the lower half of patients without sepsis tends to be younger, and the upper half is more spread out.\n",
    "There are several outliers, suggesting a notable number of patients without sepsis whose ages deviate from the central tendency. These observations may indicate potential age-related patterns associated with the likelihood of developing sepsis.\n"
   ]
  },
  {
   "cell_type": "markdown",
   "metadata": {},
   "source": [
    "## let's do correlation visualization to confirm the box plot "
   ]
  },
  {
   "cell_type": "markdown",
   "metadata": {},
   "source": [
    "# Null Hypothesis (H0): \n",
    "\n",
    "\"There is no significant correlation between age and the likelihood of developing sepsis in patients within the intensive care unit (ICU).\"\n",
    "\n",
    "# Alternative Hypothesis (H1):\n",
    "\n",
    "\"There is a significant positive correlation between age and the likelihood of developing sepsis in patients within the intensive care unit (ICU).\"\n",
    "\n",
    "# Significance Level (α):\n",
    "\n",
    "\"We will use a significance level of 0.05 to determine statistical significance.\"\n",
    "This formulation sets the stage for conducting a statistical test to evaluate whether the observed correlation is statistically significant. If the p-value from the test is less than 0.05, we would reject the null hypothesis in favor of the alternative hypothesis, concluding that there is a significant positive correlation between age and sepsis likelihood\n"
   ]
  },
  {
   "cell_type": "code",
   "execution_count": 19,
   "metadata": {},
   "outputs": [
    {
     "name": "stdout",
     "output_type": "stream",
     "text": [
      "Point-Biserial Correlation: 0.21\n",
      "P-value: 0.0000\n"
     ]
    }
   ],
   "source": [
    "# Calculate point-biserial correlation and p-value\n",
    "correlation, p_value = pointbiserialr(df_train['Sepssis'].map({'Negative': 0, 'Positive': 1}), df_train['Age'])\n",
    "\n",
    "# Display the correlation coefficient and p-value \n",
    "print(f'Point-Biserial Correlation: {correlation:.2f}')\n",
    "print(f'P-value: {p_value:.4f}')"
   ]
  },
  {
   "cell_type": "markdown",
   "metadata": {},
   "source": [
    "The calculated point-biserial correlation coefficient of 0.21 suggests a positive correlation between age and the likelihood of developing sepsis. The positive sign indicates that as age increases, the likelihood of a positive sepsis outcome also tends to increase. The p-value of 0.0000 indicates that this correlation is statistically significant, as it is below common significance levels like 0.05.\n",
    "In summary, there is evidence to support a positive correlation between age and the likelihood of developing sepsis in your dataset. This information can be valuable for further analyses and model development, as age may be considered an important factor in predicting sepsis outcomes.\n"
   ]
  },
  {
   "cell_type": "markdown",
   "metadata": {},
   "source": [
    "# Multivariate Analysis"
   ]
  },
  {
   "cell_type": "markdown",
   "metadata": {},
   "source": [
    "Are there any noticeable patterns or correlations between different numerical features (e.g., PRG, PL, PR) and the target variable (Sepssis)?"
   ]
  },
  {
   "cell_type": "code",
   "execution_count": null,
   "metadata": {},
   "outputs": [],
   "source": [
    "'''\n",
    "\n",
    "# the code below is to help us show whether there is any relation between these feature and the target \n",
    "\n",
    "# Selecting the relevant columns\n",
    "numerical_columns = ['PRG', 'PL', 'PR', 'SK', 'TS', 'M11', 'BD2', 'Age']\n",
    "\n",
    "# Creating pair plots to visualize relationships\n",
    "sns.pairplot(df_train, vars=numerical_columns, hue='Sepssis', palette='husl')\n",
    "plt.suptitle('Pair Plots of Numerical Features by Sepssis', y=1.02)\n",
    "plt.show()\n",
    "\n",
    "# Here we calculate the correlation coefficients\n",
    "correlation_matrix = df_train[numerical_columns + ['Sepssis']].corr()\n",
    "sns.heatmap(correlation_matrix, annot=True, cmap='coolwarm', fmt='.2f')\n",
    "plt.title('Correlation Matrix')\n",
    "plt.show()\n",
    "\n",
    "'''"
   ]
  },
  {
   "cell_type": "markdown",
   "metadata": {},
   "source": [
    "# To ensure class balance "
   ]
  },
  {
   "cell_type": "code",
   "execution_count": 20,
   "metadata": {},
   "outputs": [
    {
     "name": "stderr",
     "output_type": "stream",
     "text": [
      "C:\\Users\\BAKU\\AppData\\Local\\Temp\\ipykernel_20984\\1882095404.py:6: FutureWarning: \n",
      "\n",
      "Passing `palette` without assigning `hue` is deprecated and will be removed in v0.14.0. Assign the `x` variable to `hue` and set `legend=False` for the same effect.\n",
      "\n",
      "  sns.countplot(x='Sepssis', data=df_train, palette=['skyblue', 'lightcoral'])\n"
     ]
    },
    {
     "data": {
      "image/png": "[encoded data removed]",
      "text/plain": [
       "<Figure size 600x400 with 1 Axes>"
      ]
     },
     "metadata": {},
     "output_type": "display_data"
    },
    {
     "name": "stdout",
     "output_type": "stream",
     "text": [
      "Class Balance:\n",
      "Sepssis\n",
      "Negative    391\n",
      "Positive    208\n",
      "Name: count, dtype: int64\n"
     ]
    }
   ],
   "source": [
    "# Getting the unique value count of the target column 'Sepssis'\n",
    "class_balance = df_train['Sepssis'].value_counts()\n",
    "\n",
    "# Plotting class distribution with different colors\n",
    "plt.figure(figsize=(6, 4))\n",
    "sns.countplot(x='Sepssis', data=df_train, palette=['skyblue', 'lightcoral'])\n",
    "plt.title('Class Distribution of Sepssis')\n",
    "plt.xlabel('Sepssis')\n",
    "plt.ylabel('Count')\n",
    "plt.show()\n",
    "\n",
    "# Displaying the class counts\n",
    "print(\"Class Balance:\")\n",
    "print(class_balance)"
   ]
  },
  {
   "cell_type": "markdown",
   "metadata": {},
   "source": [
    "# From the above output \n",
    "we can see clearly that our classes are not balance which may affect our model output"
   ]
  },
  {
   "cell_type": "markdown",
   "metadata": {},
   "source": [
    "Though the class inbalance is not that wide we can still balance the data set to be at the safer side "
   ]
  },
  {
   "cell_type": "markdown",
   "metadata": {},
   "source": [
    "# But first we split"
   ]
  },
  {
   "cell_type": "code",
   "execution_count": 21,
   "metadata": {},
   "outputs": [],
   "source": [
    "# below we spit our data set\n",
    "X = df_train.drop('Sepssis', axis=1)\n",
    "y = df_train['Sepssis']\n",
    " \n",
    "X_train , X_test, y_train, y_test = train_test_split(X, y, test_size=0.2, random_state=42)"
   ]
  },
  {
   "cell_type": "markdown",
   "metadata": {},
   "source": [
    "# Data Preprocessing "
   ]
  },
  {
   "cell_type": "markdown",
   "metadata": {},
   "source": [
    "# now let's balance "
   ]
  },
  {
   "cell_type": "code",
   "execution_count": 22,
   "metadata": {},
   "outputs": [],
   "source": [
    "# below we balance the class\n",
    "api_oversampler = RandomOverSampler(sampling_strategy='minority')\n",
    "X_train_resampled, y_train_resampled = api_oversampler.fit_resample(X_train, y_train)"
   ]
  },
  {
   "cell_type": "code",
   "execution_count": 23,
   "metadata": {},
   "outputs": [
    {
     "name": "stdout",
     "output_type": "stream",
     "text": [
      "     PRG   PL  PR  SK   TS   M11    BD2  Age  Insurance\n",
      "0      0  102  75  23    0   0.0  0.572   21          1\n",
      "1      8  125  96   0    0   0.0  0.232   54          1\n",
      "2     12  140  82  43  325  39.2  0.528   58          1\n",
      "3      6  114   0   0    0   0.0  0.189   26          1\n",
      "4      8  109  76  39  114  27.9  0.640   31          0\n",
      "..   ...  ...  ..  ..  ...   ...    ...  ...        ...\n",
      "623    7  147  76   0    0  39.4  0.257   43          1\n",
      "624    5  166  72  19  175  25.8  0.587   51          1\n",
      "625    5  189  64  33  325  31.2  0.583   29          1\n",
      "626    4  117  62  12    0  29.7  0.380   30          1\n",
      "627    1  181  64  30  180  34.1  0.328   38          0\n",
      "\n",
      "[628 rows x 9 columns]\n"
     ]
    }
   ],
   "source": [
    "print(X_train_resampled)"
   ]
  },
  {
   "cell_type": "code",
   "execution_count": 24,
   "metadata": {},
   "outputs": [
    {
     "name": "stdout",
     "output_type": "stream",
     "text": [
      "False\n"
     ]
    }
   ],
   "source": [
    "print('Sepssis' in X_train_resampled.columns)"
   ]
  },
  {
   "cell_type": "markdown",
   "metadata": {},
   "source": [
    "feature encoding and scaling using pipline "
   ]
  },
  {
   "cell_type": "code",
   "execution_count": 26,
   "metadata": {},
   "outputs": [],
   "source": [
    "# we define the numerical and the categorical columns \n",
    "numerical_columns = ['Age', 'PRG', 'PL', 'PR', 'SK', 'TS', 'M11', 'BD2']\n",
    " \n",
    "# below we create the appropriate transformers\n",
    "numerical__transformer = StandardScaler()\n",
    "\n",
    "# below we create a column transformer \n",
    "api_preprocessor = ColumnTransformer(\n",
    "    transformers=[\n",
    "    ('num', numerical__transformer, numerical_columns)\n",
    "])\n",
    "\n",
    "# here we create our pipeline \n",
    "api_pipeline = Pipeline([\n",
    "    ('preprocessor', api_preprocessor),\n",
    "    ('classifier', RandomForestClassifier(n_estimators=100, random_state=42)) # we instantiate our machine model\n",
    "    \n",
    "])\n",
    "\n",
    "# pipeline for svc\n",
    "pipeline_svc = Pipeline([\n",
    "    ('preprocessor', api_preprocessor),\n",
    "    ('classifier', SVC(random_state=42))\n",
    "])\n",
    "\n",
    "# pipeline for gb\n",
    "pipeline_gb = Pipeline([\n",
    "    ('preprocessor', api_preprocessor),\n",
    "    ('classifier', GradientBoostingClassifier(random_state=42))\n",
    "])"
   ]
  },
  {
   "cell_type": "markdown",
   "metadata": {},
   "source": [
    "# Now let's fit our balance train data set to the pipline"
   ]
  },
  {
   "cell_type": "code",
   "execution_count": 28,
   "metadata": {},
   "outputs": [
    {
     "data": {
      "text/html": [
       "<style>#sk-container-id-1 {color: black;}#sk-container-id-1 pre{padding: 0;}#sk-container-id-1 div.sk-toggleable {background-color: white;}#sk-container-id-1 label.sk-toggleable__label {cursor: pointer;display: block;width: 100%;margin-bottom: 0;padding: 0.3em;box-sizing: border-box;text-align: center;}#sk-container-id-1 label.sk-toggleable__label-arrow:before {content: \"▸\";float: left;margin-right: 0.25em;color: #696969;}#sk-container-id-1 label.sk-toggleable__label-arrow:hover:before {color: black;}#sk-container-id-1 div.sk-estimator:hover label.sk-toggleable__label-arrow:before {color: black;}#sk-container-id-1 div.sk-toggleable__content {max-height: 0;max-width: 0;overflow: hidden;text-align: left;background-color: #f0f8ff;}#sk-container-id-1 div.sk-toggleable__content pre {margin: 0.2em;color: black;border-radius: 0.25em;background-color: #f0f8ff;}#sk-container-id-1 input.sk-toggleable__control:checked~div.sk-toggleable__content {max-height: 200px;max-width: 100%;overflow: auto;}#sk-container-id-1 input.sk-toggleable__control:checked~label.sk-toggleable__label-arrow:before {content: \"▾\";}#sk-container-id-1 div.sk-estimator input.sk-toggleable__control:checked~label.sk-toggleable__label {background-color: #d4ebff;}#sk-container-id-1 div.sk-label input.sk-toggleable__control:checked~label.sk-toggleable__label {background-color: #d4ebff;}#sk-container-id-1 input.sk-hidden--visually {border: 0;clip: rect(1px 1px 1px 1px);clip: rect(1px, 1px, 1px, 1px);height: 1px;margin: -1px;overflow: hidden;padding: 0;position: absolute;width: 1px;}#sk-container-id-1 div.sk-estimator {font-family: monospace;background-color: #f0f8ff;border: 1px dotted black;border-radius: 0.25em;box-sizing: border-box;margin-bottom: 0.5em;}#sk-container-id-1 div.sk-estimator:hover {background-color: #d4ebff;}#sk-container-id-1 div.sk-parallel-item::after {content: \"\";width: 100%;border-bottom: 1px solid gray;flex-grow: 1;}#sk-container-id-1 div.sk-label:hover label.sk-toggleable__label {background-color: #d4ebff;}#sk-container-id-1 div.sk-serial::before {content: \"\";position: absolute;border-left: 1px solid gray;box-sizing: border-box;top: 0;bottom: 0;left: 50%;z-index: 0;}#sk-container-id-1 div.sk-serial {display: flex;flex-direction: column;align-items: center;background-color: white;padding-right: 0.2em;padding-left: 0.2em;position: relative;}#sk-container-id-1 div.sk-item {position: relative;z-index: 1;}#sk-container-id-1 div.sk-parallel {display: flex;align-items: stretch;justify-content: center;background-color: white;position: relative;}#sk-container-id-1 div.sk-item::before, #sk-container-id-1 div.sk-parallel-item::before {content: \"\";position: absolute;border-left: 1px solid gray;box-sizing: border-box;top: 0;bottom: 0;left: 50%;z-index: -1;}#sk-container-id-1 div.sk-parallel-item {display: flex;flex-direction: column;z-index: 1;position: relative;background-color: white;}#sk-container-id-1 div.sk-parallel-item:first-child::after {align-self: flex-end;width: 50%;}#sk-container-id-1 div.sk-parallel-item:last-child::after {align-self: flex-start;width: 50%;}#sk-container-id-1 div.sk-parallel-item:only-child::after {width: 0;}#sk-container-id-1 div.sk-dashed-wrapped {border: 1px dashed gray;margin: 0 0.4em 0.5em 0.4em;box-sizing: border-box;padding-bottom: 0.4em;background-color: white;}#sk-container-id-1 div.sk-label label {font-family: monospace;font-weight: bold;display: inline-block;line-height: 1.2em;}#sk-container-id-1 div.sk-label-container {text-align: center;}#sk-container-id-1 div.sk-container {/* jupyter's `normalize.less` sets `[hidden] { display: none; }` but bootstrap.min.css set `[hidden] { display: none !important; }` so we also need the `!important` here to be able to override the default hidden behavior on the sphinx rendered scikit-learn.org. See: https://github.com/scikit-learn/scikit-learn/issues/21755 */display: inline-block !important;position: relative;}#sk-container-id-1 div.sk-text-repr-fallback {display: none;}</style><div id=\"sk-container-id-1\" class=\"sk-top-container\"><div class=\"sk-text-repr-fallback\"><pre>Pipeline(steps=[(&#x27;preprocessor&#x27;,\n",
       "                 ColumnTransformer(transformers=[(&#x27;num&#x27;, StandardScaler(),\n",
       "                                                  [&#x27;Age&#x27;, &#x27;PRG&#x27;, &#x27;PL&#x27;, &#x27;PR&#x27;,\n",
       "                                                   &#x27;SK&#x27;, &#x27;TS&#x27;, &#x27;M11&#x27;,\n",
       "                                                   &#x27;BD2&#x27;])])),\n",
       "                (&#x27;classifier&#x27;, RandomForestClassifier(random_state=42))])</pre><b>In a Jupyter environment, please rerun this cell to show the HTML representation or trust the notebook. <br />On GitHub, the HTML representation is unable to render, please try loading this page with nbviewer.org.</b></div><div class=\"sk-container\" hidden><div class=\"sk-item sk-dashed-wrapped\"><div class=\"sk-label-container\"><div class=\"sk-label sk-toggleable\"><input class=\"sk-toggleable__control sk-hidden--visually\" id=\"sk-estimator-id-1\" type=\"checkbox\" ><label for=\"sk-estimator-id-1\" class=\"sk-toggleable__label sk-toggleable__label-arrow\">Pipeline</label><div class=\"sk-toggleable__content\"><pre>Pipeline(steps=[(&#x27;preprocessor&#x27;,\n",
       "                 ColumnTransformer(transformers=[(&#x27;num&#x27;, StandardScaler(),\n",
       "                                                  [&#x27;Age&#x27;, &#x27;PRG&#x27;, &#x27;PL&#x27;, &#x27;PR&#x27;,\n",
       "                                                   &#x27;SK&#x27;, &#x27;TS&#x27;, &#x27;M11&#x27;,\n",
       "                                                   &#x27;BD2&#x27;])])),\n",
       "                (&#x27;classifier&#x27;, RandomForestClassifier(random_state=42))])</pre></div></div></div><div class=\"sk-serial\"><div class=\"sk-item sk-dashed-wrapped\"><div class=\"sk-label-container\"><div class=\"sk-label sk-toggleable\"><input class=\"sk-toggleable__control sk-hidden--visually\" id=\"sk-estimator-id-2\" type=\"checkbox\" ><label for=\"sk-estimator-id-2\" class=\"sk-toggleable__label sk-toggleable__label-arrow\">preprocessor: ColumnTransformer</label><div class=\"sk-toggleable__content\"><pre>ColumnTransformer(transformers=[(&#x27;num&#x27;, StandardScaler(),\n",
       "                                 [&#x27;Age&#x27;, &#x27;PRG&#x27;, &#x27;PL&#x27;, &#x27;PR&#x27;, &#x27;SK&#x27;, &#x27;TS&#x27;, &#x27;M11&#x27;,\n",
       "                                  &#x27;BD2&#x27;])])</pre></div></div></div><div class=\"sk-parallel\"><div class=\"sk-parallel-item\"><div class=\"sk-item\"><div class=\"sk-label-container\"><div class=\"sk-label sk-toggleable\"><input class=\"sk-toggleable__control sk-hidden--visually\" id=\"sk-estimator-id-3\" type=\"checkbox\" ><label for=\"sk-estimator-id-3\" class=\"sk-toggleable__label sk-toggleable__label-arrow\">num</label><div class=\"sk-toggleable__content\"><pre>[&#x27;Age&#x27;, &#x27;PRG&#x27;, &#x27;PL&#x27;, &#x27;PR&#x27;, &#x27;SK&#x27;, &#x27;TS&#x27;, &#x27;M11&#x27;, &#x27;BD2&#x27;]</pre></div></div></div><div class=\"sk-serial\"><div class=\"sk-item\"><div class=\"sk-estimator sk-toggleable\"><input class=\"sk-toggleable__control sk-hidden--visually\" id=\"sk-estimator-id-4\" type=\"checkbox\" ><label for=\"sk-estimator-id-4\" class=\"sk-toggleable__label sk-toggleable__label-arrow\">StandardScaler</label><div class=\"sk-toggleable__content\"><pre>StandardScaler()</pre></div></div></div></div></div></div></div></div><div class=\"sk-item\"><div class=\"sk-estimator sk-toggleable\"><input class=\"sk-toggleable__control sk-hidden--visually\" id=\"sk-estimator-id-5\" type=\"checkbox\" ><label for=\"sk-estimator-id-5\" class=\"sk-toggleable__label sk-toggleable__label-arrow\">RandomForestClassifier</label><div class=\"sk-toggleable__content\"><pre>RandomForestClassifier(random_state=42)</pre></div></div></div></div></div></div></div>"
      ],
      "text/plain": [
       "Pipeline(steps=[('preprocessor',\n",
       "                 ColumnTransformer(transformers=[('num', StandardScaler(),\n",
       "                                                  ['Age', 'PRG', 'PL', 'PR',\n",
       "                                                   'SK', 'TS', 'M11',\n",
       "                                                   'BD2'])])),\n",
       "                ('classifier', RandomForestClassifier(random_state=42))])"
      ]
     },
     "execution_count": 28,
     "metadata": {},
     "output_type": "execute_result"
    }
   ],
   "source": [
    "api_pipeline.fit(X_train_resampled, y_train_resampled) # here we pass our balance data set through the pipeline"
   ]
  },
  {
   "cell_type": "markdown",
   "metadata": {},
   "source": [
    "# Now \n",
    "let's do some predicton "
   ]
  },
  {
   "cell_type": "code",
   "execution_count": 29,
   "metadata": {},
   "outputs": [],
   "source": [
    "# below we want to do predictions on the test data set X_test\n",
    "y_pred = api_pipeline.predict(X_test)"
   ]
  },
  {
   "cell_type": "markdown",
   "metadata": {},
   "source": [
    "# Now \n",
    "Let's do some evaluation"
   ]
  },
  {
   "cell_type": "markdown",
   "metadata": {},
   "source": [
    "# Accuracy Score:\n",
    "The accuracy_score function computes the accuracy of the classification model. It is the ratio of correctly predicted instances to the total instances.\n",
    "In this case, y_test contains the true labels, and y_pred contains the predicted labels. \n",
    "\n",
    "# Classification Report:\n",
    "\n",
    "The classification_report function generates a text report with key classification metrics.\n",
    "It includes metrics such as precision, recall, F1-score, and support for each class.\n",
    "This report is useful for evaluating the performance of the model for each class.\n",
    "\n",
    "# Confusion Matrix:\n",
    "\n",
    "The confusion_matrix function computes the confusion matrix to evaluate the accuracy of the classification.\n",
    "It shows the number of true positive, true negative, false positive, and false negative predictions.\n",
    "The confusion matrix table is used to describe the performance of a classification model on a set of test data"
   ]
  },
  {
   "cell_type": "code",
   "execution_count": 30,
   "metadata": {},
   "outputs": [
    {
     "name": "stdout",
     "output_type": "stream",
     "text": [
      "Accuracy: 0.7166666666666667\n",
      "\n",
      "Classification Report:\n",
      "               precision    recall  f1-score   support\n",
      "\n",
      "    Negative       0.79      0.75      0.77        77\n",
      "    Positive       0.60      0.65      0.62        43\n",
      "\n",
      "    accuracy                           0.72       120\n",
      "   macro avg       0.70      0.70      0.70       120\n",
      "weighted avg       0.72      0.72      0.72       120\n",
      "\n",
      "\n",
      "Confusion Matrix:\n",
      " [[58 19]\n",
      " [15 28]]\n"
     ]
    }
   ],
   "source": [
    "# below we will use this code to evaluate the model so see how the model is performing\n",
    "\n",
    "print(\"Accuracy:\", accuracy_score(y_test, y_pred))\n",
    "print(\"\\nClassification Report:\\n\", classification_report(y_test, y_pred))\n",
    "print(\"\\nConfusion Matrix:\\n\", confusion_matrix(y_test, y_pred))"
   ]
  },
  {
   "cell_type": "markdown",
   "metadata": {},
   "source": [
    "# Interpretation\n",
    "\n",
    "[[True Negative  False Positive]\n",
    "\n",
    " [False Negative True Positive]]\n",
    "\n",
    " [[59 18]\n",
    " \n",
    " [15 28]]\n",
    "\n",
    "59 instances were correctly classified as Negative (True Negative)\n",
    "\n",
    "28 instances were correctly classified as Positive (True Positive)\n",
    "\n",
    "18 instances were incorrectly classified as Positive (False Positive)\n",
    "\n",
    "15 instances were incorrectly classified as Negative (False Negative)\n"
   ]
  },
  {
   "cell_type": "markdown",
   "metadata": {},
   "source": [
    "# Below are the other models "
   ]
  },
  {
   "cell_type": "code",
   "execution_count": 32,
   "metadata": {},
   "outputs": [
    {
     "name": "stdout",
     "output_type": "stream",
     "text": [
      "\n",
      "Support Vector Classifier Accuracy: 0.6916666666666667\n",
      "\n",
      "Support Vector Classifier Classification Report:\n",
      "               precision    recall  f1-score   support\n",
      "\n",
      "    Negative       0.80      0.69      0.74        77\n",
      "    Positive       0.56      0.70      0.62        43\n",
      "\n",
      "    accuracy                           0.69       120\n",
      "   macro avg       0.68      0.69      0.68       120\n",
      "weighted avg       0.71      0.69      0.70       120\n",
      "\n",
      "\n",
      "Support Vector Classifier Confusion Matrix:\n",
      " [[53 24]\n",
      " [13 30]]\n"
     ]
    }
   ],
   "source": [
    "# Train and evaluate Support Vector Classifier\n",
    "pipeline_svc.fit(X_train_resampled, y_train_resampled)\n",
    "y_pred_svc = pipeline_svc.predict(X_test)\n",
    "print(\"\\nSupport Vector Classifier Accuracy:\", accuracy_score(y_test, y_pred_svc))\n",
    "print(\"\\nSupport Vector Classifier Classification Report:\\n\", classification_report(y_test, y_pred_svc))\n",
    "print(\"\\nSupport Vector Classifier Confusion Matrix:\\n\", confusion_matrix(y_test, y_pred_svc))"
   ]
  },
  {
   "cell_type": "code",
   "execution_count": 33,
   "metadata": {},
   "outputs": [
    {
     "name": "stdout",
     "output_type": "stream",
     "text": [
      "\n",
      "Gradient Boosting Classifier Accuracy: 0.7333333333333333\n",
      "\n",
      "Gradient Boosting Classifier Classification Report:\n",
      "               precision    recall  f1-score   support\n",
      "\n",
      "    Negative       0.83      0.74      0.78        77\n",
      "    Positive       0.61      0.72      0.66        43\n",
      "\n",
      "    accuracy                           0.73       120\n",
      "   macro avg       0.72      0.73      0.72       120\n",
      "weighted avg       0.75      0.73      0.74       120\n",
      "\n",
      "\n",
      "Gradient Boosting Classifier Confusion Matrix:\n",
      " [[57 20]\n",
      " [12 31]]\n"
     ]
    }
   ],
   "source": [
    "# Train and evaluate Gradient Boosting Classifier\n",
    "pipeline_gb.fit(X_train_resampled, y_train_resampled)\n",
    "y_pred_gb = pipeline_gb.predict(X_test)\n",
    "print(\"\\nGradient Boosting Classifier Accuracy:\", accuracy_score(y_test, y_pred_gb))\n",
    "print(\"\\nGradient Boosting Classifier Classification Report:\\n\", classification_report(y_test, y_pred_gb))\n",
    "print(\"\\nGradient Boosting Classifier Confusion Matrix:\\n\", confusion_matrix(y_test, y_pred_gb))"
   ]
  }
 ],
 "metadata": {
  "kernelspec": {
   "display_name": "api_env",
   "language": "python",
   "name": "python3"
  },
  "language_info": {
   "codemirror_mode": {
    "name": "ipython",
    "version": 3
   },
   "file_extension": ".py",
   "mimetype": "text/x-python",
   "name": "python",
   "nbconvert_exporter": "python",
   "pygments_lexer": "ipython3",
   "version": "3.10.11"
  }
 },
 "nbformat": 4,
 "nbformat_minor": 2
}
